{
 "cells": [
  {
   "cell_type": "code",
   "execution_count": 1,
   "metadata": {
    "collapsed": true
   },
   "outputs": [],
   "source": [
    "# This module reads a *.bnt file from the Bosphorus face database\n",
    "\n",
    "import struct\n",
    "\n",
    "def read_bntfile(bntfilename):\n",
    "\n",
    "    f = open(bntfilename,\"rb\")\n",
    "    nrows = struct.unpack(\"H\",f.read(2))[0]\n",
    "    ncols = struct.unpack(\"H\",f.read(2))[0]\n",
    "    zmin = struct.unpack(\"d\",f.read(8))[0]\n",
    "    lent = struct.unpack(\"H\",f.read(2))[0]\n",
    "    imfile = []\n",
    "    for i in range(lent):\n",
    "        imfile.append(struct.unpack(\"c\",f.read(1))[0])\n",
    "    st = \"\"\n",
    "    imfile = st.join(imfile)\n",
    "    \n",
    "    #% size of data must be N*5, with N = nrows*ncols\n",
    "    size = struct.unpack(\"I\",f.read(4))[0]/5\n",
    "    if (size != nrows*ncols):\n",
    "        print(\"Uncoherent header: The size f the matrix is incorrect\");\n",
    "        \n",
    "    data = {\"x\":[],\"y\":[],\"z\":[],\"a\":[],\"b\":[],\"flag\":[]}\n",
    "    for key in [\"x\",\"y\",\"z\",\"a\",\"b\"]:\n",
    "        for i in range(nrows):\n",
    "            # the range image is stored upsidedown in the .bnt file\n",
    "            # |LL LR|         |UL UR|\n",
    "            # |UL UR| instead |LL LR|\n",
    "            # Since we don't want to use the insert function or \n",
    "            # compute the destination of each value, we reverse the lines\n",
    "            # |LR LL|\n",
    "            # |UR UL|\n",
    "            # and then reverse the whole list\n",
    "            # |UL UR|\n",
    "            # |LL LR|\n",
    "            row = [];\n",
    "            for i in range(ncols):\n",
    "                row.append(struct.unpack(\"d\",f.read(8))[0])\n",
    "                row.reverse()\n",
    "                data[key].extend(row)\n",
    "    f.close()\n",
    "    \n",
    "# reverse list\n",
    "    data[\"x\"].reverse()\n",
    "    data[\"y\"].reverse()\n",
    "    data[\"z\"].reverse()\n",
    "    data[\"a\"].reverse()\n",
    "    data[\"b\"].reverse()\n",
    "\n",
    "#we determine the flag for each pixel\n",
    "# In the matrix, values that are equal to zmin denotes the background\n",
    "    for i in range(size):\n",
    "        if data[\"z\"][i] == zmin:\n",
    "            data[\"x\"][i] == -999999.000000\n",
    "            data[\"y\"][i] == -999999.000000\n",
    "            data[\"z\"][i] == -999999.000000\n",
    "            data[\"flag\"].append(0)\n",
    "        else:\n",
    "            data[\"flag\"].append(1)\n",
    "            \n",
    "    return [nrows,ncols,data,imfile]\n",
    "            \n",
    "            \n",
    "    #read the *bnt file\n",
    "    "
   ]
  },
  {
   "cell_type": "code",
   "execution_count": 2,
   "metadata": {
    "collapsed": true
   },
   "outputs": [],
   "source": [
    "[nrows,ncols,data,imfile]=read_bntfile(\"bs000_E_ANGER_0.bnt\"); #choose the file"
   ]
  },
  {
   "cell_type": "code",
   "execution_count": 16,
   "metadata": {
    "collapsed": false
   },
   "outputs": [],
   "source": [
    "import cv2"
   ]
  },
  {
   "cell_type": "code",
   "execution_count": 1,
   "metadata": {
    "collapsed": true
   },
   "outputs": [],
   "source": [
    "#!/usr/bin/env python\n",
    "# Software License Agreement (BSD License)\n",
    "#\n",
    "# Copyright (c) 2012, Philipp Wagner <bytefish[at]gmx[dot]de>.\n",
    "# All rights reserved.\n",
    "#\n",
    "# Redistribution and use in source and binary forms, with or without\n",
    "# modification, are permitted provided that the following conditions\n",
    "# are met:\n",
    "#\n",
    "#  * Redistributions of source code must retain the above copyright\n",
    "#    notice, this list of conditions and the following disclaimer.\n",
    "#  * Redistributions in binary form must reproduce the above\n",
    "#    copyright notice, this list of conditions and the following\n",
    "#    disclaimer in the documentation and/or other materials provided\n",
    "#    with the distribution.\n",
    "#  * Neither the name of the author nor the names of its\n",
    "#    contributors may be used to endorse or promote products derived\n",
    "#    from this software without specific prior written permission.\n",
    "#\n",
    "# THIS SOFTWARE IS PROVIDED BY THE COPYRIGHT HOLDERS AND CONTRIBUTORS\n",
    "# \"AS IS\" AND ANY EXPRESS OR IMPLIED WARRANTIES, INCLUDING, BUT NOT\n",
    "# LIMITED TO, THE IMPLIED WARRANTIES OF MERCHANTABILITY AND FITNESS\n",
    "# FOR A PARTICULAR PURPOSE ARE DISCLAIMED. IN NO EVENT SHALL THE\n",
    "# COPYRIGHT OWNER OR CONTRIBUTORS BE LIABLE FOR ANY DIRECT, INDIRECT,\n",
    "# INCIDENTAL, SPECIAL, EXEMPLARY, OR CONSEQUENTIAL DAMAGES (INCLUDING,\n",
    "# BUT NOT LIMITED TO, PROCUREMENT OF SUBSTITUTE GOODS OR SERVICES;\n",
    "# LOSS OF USE, DATA, OR PROFITS; OR BUSINESS INTERRUPTION) HOWEVER\n",
    "# CAUSED AND ON ANY THEORY OF LIABILITY, WHETHER IN CONTRACT, STRICT\n",
    "# LIABILITY, OR TORT (INCLUDING NEGLIGENCE OR OTHERWISE) ARISING IN\n",
    "# ANY WAY OUT OF THE USE OF THIS SOFTWARE, EVEN IF ADVISED OF THE\n",
    "# POSSIBILITY OF SUCH DAMAGE.\n",
    "\n",
    "# ------------------------------------------------------------------------------------------------\n",
    "# Note:\n",
    "# When using the FaceRecognizer interface in combination with Python, please stick to Python 2.\n",
    "# Some underlying scripts like create_csv will not work in other versions, like Python 3.\n",
    "# ------------------------------------------------------------------------------------------------\n",
    "\n",
    "import os\n",
    "import sys\n",
    "import cv2\n",
    "import numpy as np\n",
    "\n",
    "def normalize(X, low, high, dtype=None):\n",
    "    \"\"\"Normalizes a given array in X to a value between low and high.\"\"\"\n",
    "    X = np.asarray(X)\n",
    "    minX, maxX = np.min(X), np.max(X)\n",
    "    # normalize to [0...1].\n",
    "    X = X - float(minX)\n",
    "    X = X / float((maxX - minX))\n",
    "    # scale to [low...high].\n",
    "    X = X * (high-low)\n",
    "    X = X + low\n",
    "    if dtype is None:\n",
    "        return np.asarray(X)\n",
    "    return np.asarray(X, dtype=dtype)\n",
    "\n",
    "\n",
    "def read_images(path, sz=None):\n",
    "    \"\"\"Reads the images in a given folder, resizes images on the fly if size is given.\n",
    "    Args:\n",
    "        path: Path to a folder with subfolders representing the subjects (persons).\n",
    "        sz: A tuple with the size Resizes\n",
    "    Returns:\n",
    "        A list [X,y]\n",
    "            X: The images, which is a Python list of numpy arrays.\n",
    "            y: The corresponding labels (the unique number of the subject, person) in a Python list.\n",
    "    \"\"\"\n",
    "    c = 0\n",
    "    X,y = [], []\n",
    "    for dirname, dirnames, filenames in os.walk(path):\n",
    "        for subdirname in dirnames:\n",
    "            subject_path = os.path.join(dirname, subdirname)\n",
    "            for filename in os.listdir(subject_path):\n",
    "                if '.png' in filename:\n",
    "                    try:\n",
    "                        im = cv2.imread(os.path.join(subject_path, filename), cv2.IMREAD_GRAYSCALE)\n",
    "                        # resize to given size (if given)\n",
    "                        if (sz is not None):\n",
    "                            im = cv2.resize(im, sz)\n",
    "                        X.append(np.asarray(im, dtype=np.uint8))\n",
    "                        y.append(c)\n",
    "                    except IOError, (errno, strerror):\n",
    "                        print \"I/O error({0}): {1}\".format(errno, strerror)\n",
    "                    except:\n",
    "                        print \"Unexpected error:\", sys.exc_info()[0]\n",
    "                        raise\n",
    "            c = c+1\n",
    "    return [X,y]"
   ]
  },
  {
   "cell_type": "code",
   "execution_count": 2,
   "metadata": {
    "collapsed": false
   },
   "outputs": [],
   "source": [
    "[X,y] = read_images('bsdata/bstrain/', (1100, 1300))"
   ]
  },
  {
   "cell_type": "code",
   "execution_count": 3,
   "metadata": {
    "collapsed": true
   },
   "outputs": [],
   "source": [
    "[Xtest, ytest] = read_images('bsdata/bstest/', (1100, 1300))"
   ]
  },
  {
   "cell_type": "code",
   "execution_count": 134,
   "metadata": {
    "collapsed": false
   },
   "outputs": [
    {
     "name": "stdout",
     "output_type": "stream",
     "text": [
      "eigen face= 5 precision = 0.647058823529\n",
      "eigen face= 6 precision = 0.735294117647\n",
      "eigen face= 7 precision = 0.705882352941\n",
      "eigen face= 8 precision = 0.735294117647\n",
      "eigen face= 9 precision = 0.735294117647\n",
      "eigen face= 10 precision = 0.764705882353\n",
      "eigen face= 11 precision = 0.764705882353\n",
      "eigen face= 12 precision = 0.794117647059\n",
      "eigen face= 13 precision = 0.794117647059\n",
      "eigen face= 14 precision = 0.764705882353\n",
      "eigen face= 15 precision = 0.764705882353\n",
      "eigen face= 16 precision = 0.764705882353\n",
      "eigen face= 17 precision = 0.764705882353\n",
      "eigen face= 18 precision = 0.764705882353\n",
      "eigen face= 19 precision = 0.764705882353\n",
      "eigen face= 20 precision = 0.764705882353\n",
      "eigen face= 21 precision = 0.764705882353\n",
      "eigen face= 22 precision = 0.764705882353\n",
      "eigen face= 23 precision = 0.764705882353\n",
      "eigen face= 24 precision = 0.764705882353\n",
      "eigen face= 25 precision = 0.764705882353\n",
      "eigen face= 26 precision = 0.764705882353\n",
      "eigen face= 27 precision = 0.764705882353\n",
      "eigen face= 28 precision = 0.764705882353\n",
      "eigen face= 29 precision = 0.764705882353\n",
      "eigen face= 30 precision = 0.764705882353\n",
      "eigen face= 31 precision = 0.764705882353\n",
      "eigen face= 32 precision = 0.764705882353\n",
      "eigen face= 33 precision = 0.764705882353\n",
      "eigen face= 34 precision = 0.764705882353\n",
      "eigen face= 35 precision = 0.764705882353\n",
      "eigen face= 36 precision = 0.764705882353\n",
      "eigen face= 37 precision = 0.764705882353\n",
      "eigen face= 38 precision = 0.764705882353\n",
      "eigen face= 39 precision = 0.764705882353\n",
      "eigen face= 40 precision = 0.764705882353\n"
     ]
    }
   ],
   "source": [
    "for e in range(5,41):\n",
    "    model = cv2.createEigenFaceRecognizer(e)\n",
    "    model.train(np.asarray(X), np.asarray(y))\n",
    "    ccount = 0\n",
    "    for i in range(len(Xtest)):\n",
    "        [p_label, p_conf] = model.predict(np.asarray(Xtest[i]))\n",
    "        if (p_label == (ytest[i] + 5)) and p_conf > 0:\n",
    "            ccount += 1.0\n",
    "    print \"eigen face= \" + str(e), \"precision = \" + str(ccount / 34)"
   ]
  },
  {
   "cell_type": "code",
   "execution_count": 34,
   "metadata": {
    "collapsed": false
   },
   "outputs": [],
   "source": [
    "y = np.asarray(y, dtype=np.int32)"
   ]
  },
  {
   "cell_type": "code",
   "execution_count": 4,
   "metadata": {
    "collapsed": true
   },
   "outputs": [],
   "source": [
    "model = cv2.createEigenFaceRecognizer(12)"
   ]
  },
  {
   "cell_type": "code",
   "execution_count": 5,
   "metadata": {
    "collapsed": false
   },
   "outputs": [],
   "source": [
    "model.train(np.asarray(X), np.asarray(y))"
   ]
  },
  {
   "cell_type": "code",
   "execution_count": 6,
   "metadata": {
    "collapsed": false
   },
   "outputs": [
    {
     "name": "stdout",
     "output_type": "stream",
     "text": [
      "(5, 14317.68417841207)\n",
      "5\n",
      "(6, 12387.788072755722)\n",
      "5\n",
      "(7, 15191.267785468426)\n",
      "5\n",
      "(5, 12929.291898384019)\n",
      "5\n",
      "(6, 13620.359987248203)\n",
      "5\n",
      "(5, 15686.703481461409)\n",
      "5\n",
      "(5, 0.0)\n",
      "5\n",
      "(5, 0.0)\n",
      "5\n",
      "(7, 16666.905717308175)\n",
      "5\n",
      "(6, 9521.864274890895)\n",
      "6\n",
      "(6, 8236.10501921745)\n",
      "6\n",
      "(6, 10900.48609042124)\n",
      "6\n",
      "(6, 10170.028088649393)\n",
      "6\n",
      "(6, 6951.701175021878)\n",
      "6\n",
      "(6, 10089.844413945215)\n",
      "6\n",
      "(6, 0.0)\n",
      "6\n",
      "(5, 11021.565852213016)\n",
      "6\n",
      "(7, 6323.2887994516705)\n",
      "7\n",
      "(7, 9247.811355209695)\n",
      "7\n",
      "(7, 6962.814491839412)\n",
      "7\n",
      "(7, 5862.267135212547)\n",
      "7\n",
      "(7, 12320.152688987537)\n",
      "7\n",
      "(7, 0.0)\n",
      "7\n",
      "(7, 8517.747739079357)\n",
      "7\n",
      "(8, 6546.6109056628)\n",
      "8\n",
      "(8, 4326.251635629309)\n",
      "8\n",
      "(8, 13457.219325400292)\n",
      "8\n",
      "(8, 5612.225418188897)\n",
      "8\n",
      "(8, 2913.4957190569803)\n",
      "8\n",
      "(8, 10248.324367923438)\n",
      "8\n",
      "(8, 0.0)\n",
      "8\n",
      "(8, 10868.481574325264)\n",
      "8\n",
      "(9, 9139.548006914061)\n",
      "9\n",
      "(9, 12238.995585749024)\n",
      "9\n",
      "(9, 6633.021848597372)\n",
      "9\n",
      "(9, 8635.788776463174)\n",
      "9\n",
      "(2, 13295.911191881185)\n",
      "9\n",
      "(7, 13509.785329347042)\n",
      "9\n",
      "(9, 0.0)\n",
      "9\n",
      "(9, 11198.159364061257)\n",
      "9\n"
     ]
    }
   ],
   "source": [
    "for i in range(len(Xtest)):\n",
    "    print model.predict(np.asarray(Xtest[i]))\n",
    "    print ytest[i] + 5"
   ]
  },
  {
   "cell_type": "code",
   "execution_count": 97,
   "metadata": {
    "collapsed": true
   },
   "outputs": [],
   "source": [
    "[p_label, p_confidence] = model.predict(np.asarray(Xtest[1]))"
   ]
  },
  {
   "cell_type": "code",
   "execution_count": 98,
   "metadata": {
    "collapsed": false
   },
   "outputs": [
    {
     "data": {
      "text/plain": [
       "(6, 14939.311232672973)"
      ]
     },
     "execution_count": 98,
     "metadata": {},
     "output_type": "execute_result"
    }
   ],
   "source": [
    "p_label, p_confidence"
   ]
  },
  {
   "cell_type": "code",
   "execution_count": 117,
   "metadata": {
    "collapsed": true
   },
   "outputs": [],
   "source": [
    "model1 = cv2.createLBPHFaceRecognizer()"
   ]
  },
  {
   "cell_type": "code",
   "execution_count": 124,
   "metadata": {
    "collapsed": false
   },
   "outputs": [],
   "source": [
    "model1.train(X[:41], np.asarray(y[:41]))"
   ]
  },
  {
   "cell_type": "code",
   "execution_count": 127,
   "metadata": {
    "collapsed": false
   },
   "outputs": [],
   "source": [
    "model1.update(X[41:], np.asarray(y[41:]))"
   ]
  },
  {
   "cell_type": "code",
   "execution_count": 131,
   "metadata": {
    "collapsed": false
   },
   "outputs": [
    {
     "name": "stdout",
     "output_type": "stream",
     "text": [
      "5 5 True 5.53116280733\n",
      "5 5 True 6.3931302288\n",
      "5 5 True 4.69617001614\n",
      "5 5 True 5.60916677442\n",
      "5 5 True 4.47185327692\n",
      "5 5 True 6.72643415615\n",
      "5 5 True 0.0\n",
      "5 5 True 0.0\n",
      "5 5 True 7.15028758107\n",
      "6 6 True 3.50389333977\n",
      "6 6 True 2.652241844\n",
      "6 6 True 5.3928341649\n",
      "6 6 True 3.3967510406\n",
      "6 6 True 2.87426429049\n",
      "6 6 True 4.30505845632\n",
      "6 6 True 0.0\n",
      "6 6 True 4.04706075954\n",
      "7 7 True 4.0546194729\n",
      "7 7 True 3.57252461596\n",
      "7 7 True 3.03014998213\n",
      "7 7 True 3.22858820286\n",
      "7 7 True 5.07127013976\n",
      "7 7 True 0.0\n",
      "7 7 True 2.58267669944\n",
      "8 8 True 2.36624517209\n",
      "8 8 True 2.30086814746\n",
      "8 8 True 4.37352788218\n",
      "8 8 True 4.06080697047\n",
      "8 8 True 1.77387347665\n",
      "8 8 True 3.70027595161\n",
      "8 8 True 0.0\n",
      "8 8 True 4.56766537443\n",
      "9 9 True 3.32127290619\n",
      "9 9 True 3.81137961879\n",
      "9 9 True 4.01362564499\n",
      "9 9 True 3.65562718452\n",
      "9 9 True 5.71818931397\n",
      "9 9 True 4.2454462913\n",
      "9 9 True 0.0\n",
      "9 9 True 6.5803317004\n"
     ]
    }
   ],
   "source": [
    "for i in range(40):\n",
    "    [p_label, p_conf] = model1.predict(Xtest[i])\n",
    "    print p_label, str(ytest[i]+5), p_label == (ytest[i]+5),p_conf"
   ]
  },
  {
   "cell_type": "code",
   "execution_count": 4,
   "metadata": {
    "collapsed": false
   },
   "outputs": [
    {
     "data": {
      "text/plain": [
       "'bs000_E_ANGER_0.png'"
      ]
     },
     "execution_count": 4,
     "metadata": {},
     "output_type": "execute_result"
    }
   ],
   "source": [
    "if __name__ == \"__main__\":\n",
    "    # This is where we write the images, if an output_dir is given\n",
    "    # in command line:\n",
    "    out_dir = None\n",
    "    # You'll need at least a path to your image data, please see\n",
    "    # the tutorial coming with this source code on how to prepare\n",
    "    # your image data:\n",
    "    if len(sys.argv) < 2:\n",
    "        print \"USAGE: facerec_demo.py </path/to/images> [</path/to/store/images/at>]\"\n",
    "        sys.exit()\n",
    "    # Now read in the image data. This must be a valid path!\n",
    "    [X,y] = read_images(sys.argv[1])\n",
    "    # Convert labels to 32bit integers. This is a workaround for 64bit machines,\n",
    "    # because the labels will truncated else. This will be fixed in code as\n",
    "    # soon as possible, so Python users don't need to know about this.\n",
    "    # Thanks to Leo Dirac for reporting:\n",
    "    y = np.asarray(y, dtype=np.int32)\n",
    "    # If a out_dir is given, set it:\n",
    "    if len(sys.argv) == 3:\n",
    "        out_dir = sys.argv[2]\n",
    "    # Create the Eigenfaces model. We are going to use the default\n",
    "    # parameters for this simple example, please read the documentation\n",
    "    # for thresholding:\n",
    "    model = cv2.createEigenFaceRecognizer()\n",
    "    # Read\n",
    "    # Learn the model. Remember our function returns Python lists,\n",
    "    # so we use np.asarray to turn them into NumPy lists to make\n",
    "    # the OpenCV wrapper happy:\n",
    "    model.train(np.asarray(X), np.asarray(y))\n",
    "    # We now get a prediction from the model! In reality you\n",
    "    # should always use unseen images for testing your model.\n",
    "    # But so many people were confused, when I sliced an image\n",
    "    # off in the C++ version, so I am just using an image we\n",
    "    # have trained with.\n",
    "    #\n",
    "    # model.predict is going to return the predicted label and\n",
    "    # the associated confidence:\n",
    "    [p_label, p_confidence] = model.predict(np.asarray(X[0]))\n",
    "    # Print it:\n",
    "    print \"Predicted label = %d (confidence=%.2f)\" % (p_label, p_confidence)\n",
    "    # Cool! Finally we'll plot the Eigenfaces, because that's\n",
    "    # what most people read in the papers are keen to see.\n",
    "    #\n",
    "    # Just like in C++ you have access to all model internal\n",
    "    # data, because the cv::FaceRecognizer is a cv::Algorithm.\n",
    "    #\n",
    "    # You can see the available parameters with getParams():\n",
    "    print model.getParams()\n",
    "    # Now let's get some data:\n",
    "    mean = model.getMat(\"mean\")\n",
    "    eigenvectors = model.getMat(\"eigenvectors\")\n",
    "    # We'll save the mean, by first normalizing it:\n",
    "    mean_norm = normalize(mean, 0, 255, dtype=np.uint8)\n",
    "    mean_resized = mean_norm.reshape(X[0].shape)\n",
    "    if out_dir is None:\n",
    "        cv2.imshow(\"mean\", mean_resized)\n",
    "    else:\n",
    "        cv2.imwrite(\"%s/mean.png\" % (out_dir), mean_resized)\n",
    "    # Turn the first (at most) 16 eigenvectors into grayscale\n",
    "    # images. You could also use cv::normalize here, but sticking\n",
    "    # to NumPy is much easier for now.\n",
    "    # Note: eigenvectors are stored by column:\n",
    "    for i in xrange(min(len(X), 16)):\n",
    "        eigenvector_i = eigenvectors[:,i].reshape(X[0].shape)\n",
    "        eigenvector_i_norm = normalize(eigenvector_i, 0, 255, dtype=np.uint8)\n",
    "        # Show or save the images:\n",
    "        if out_dir is None:\n",
    "            cv2.imshow(\"%s/eigenface_%d\" % (out_dir,i), eigenvector_i_norm)\n",
    "        else:\n",
    "            cv2.imwrite(\"%s/eigenface_%d.png\" % (out_dir,i), eigenvector_i_norm)\n",
    "    # Show the images:\n",
    "    if out_dir is None:\n",
    "        cv2.waitKey(0)\n",
    "Status API Training Shop Blog About\n",
    "© 2016 GitHub, Inc. Terms Privacy Security Contact Help"
   ]
  },
  {
   "cell_type": "code",
   "execution_count": 6,
   "metadata": {
    "collapsed": true
   },
   "outputs": [],
   "source": [
    "import numpy as np"
   ]
  },
  {
   "cell_type": "code",
   "execution_count": 15,
   "metadata": {
    "collapsed": false
   },
   "outputs": [
    {
     "data": {
      "text/plain": [
       "0.999259"
      ]
     },
     "execution_count": 15,
     "metadata": {},
     "output_type": "execute_result"
    }
   ],
   "source": [
    "max(data['b'])"
   ]
  },
  {
   "cell_type": "code",
   "execution_count": 10,
   "metadata": {
    "collapsed": false
   },
   "outputs": [
    {
     "data": {
      "text/plain": [
       "(3871125L,)"
      ]
     },
     "execution_count": 10,
     "metadata": {},
     "output_type": "execute_result"
    }
   ],
   "source": [
    "np.shape(data['b'])"
   ]
  },
  {
   "cell_type": "code",
   "execution_count": null,
   "metadata": {
    "collapsed": true
   },
   "outputs": [],
   "source": []
  }
 ],
 "metadata": {
  "kernelspec": {
   "display_name": "Python 2",
   "language": "python",
   "name": "python2"
  },
  "language_info": {
   "codemirror_mode": {
    "name": "ipython",
    "version": 2
   },
   "file_extension": ".py",
   "mimetype": "text/x-python",
   "name": "python",
   "nbconvert_exporter": "python",
   "pygments_lexer": "ipython2",
   "version": "2.7.11"
  }
 },
 "nbformat": 4,
 "nbformat_minor": 0
}
